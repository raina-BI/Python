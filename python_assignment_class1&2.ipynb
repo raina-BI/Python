{
  "nbformat": 4,
  "nbformat_minor": 0,
  "metadata": {
    "colab": {
      "provenance": [],
      "authorship_tag": "ABX9TyPnneAreuvLGB60L1UR1owx",
      "include_colab_link": true
    },
    "kernelspec": {
      "name": "python3",
      "display_name": "Python 3"
    },
    "language_info": {
      "name": "python"
    }
  },
  "cells": [
    {
      "cell_type": "markdown",
      "metadata": {
        "id": "view-in-github",
        "colab_type": "text"
      },
      "source": [
        "<a href=\"https://colab.research.google.com/github/rainaoommen/Python/blob/main/python_assignment_class1%262.ipynb\" target=\"_parent\"><img src=\"https://colab.research.google.com/assets/colab-badge.svg\" alt=\"Open In Colab\"/></a>"
      ]
    },
    {
      "cell_type": "code",
      "execution_count": null,
      "metadata": {
        "colab": {
          "base_uri": "https://localhost:8080/"
        },
        "id": "zFSNG9SejUbD",
        "outputId": "df6408f1-5228-498c-fba3-5cb767c76b7b"
      },
      "outputs": [
        {
          "output_type": "stream",
          "name": "stdout",
          "text": [
            "Enter the YEAR  2020\n",
            "It is a leap year\n"
          ]
        }
      ],
      "source": [
        "#Check whether a year is leap year or not.\n",
        "def is_leapyear():\n",
        " year = int(input(\"Enter the YEAR  \" ))\n",
        " if ( year % 4 == 0 and year % 100 != 0 ) or ( year % 400 == 0 ):\n",
        "  print(\"It is a leap year\")\n",
        " else:\n",
        "  print(\"It is not a leap year\")\n",
        "\n",
        "is_leapyear()"
      ]
    },
    {
      "cell_type": "code",
      "source": [
        "#Height_Convertor\n",
        "Height_in_cm = int(input(\"enter the height in cm \"))\n",
        "Height_in_feet= Height_in_cm*0.0328\n",
        "print(Height_in_feet)"
      ],
      "metadata": {
        "colab": {
          "base_uri": "https://localhost:8080/"
        },
        "id": "KlxTCJ0gjgC-",
        "outputId": "c3853bdb-9c11-429e-e547-dce36b6811a3"
      },
      "execution_count": null,
      "outputs": [
        {
          "output_type": "stream",
          "name": "stdout",
          "text": [
            "enter the height in cm 161\n",
            "5.2808\n"
          ]
        }
      ]
    },
    {
      "cell_type": "code",
      "source": [
        "# employ slicing on sandwich ingredients list\n",
        "sandwich = ['bread','cheese','lettuce','tomato','spread', 'jalepeno','pickle']\n",
        "print(sandwich[1:-1])\n",
        "print(sandwich[:-2])\n",
        "print(sandwich[2:3])\n",
        "print(sandwich[0:7:3])"
      ],
      "metadata": {
        "colab": {
          "base_uri": "https://localhost:8080/"
        },
        "id": "i6gSrQRT15o9",
        "outputId": "b1b13563-69b9-4753-dc34-94789c1d9c15"
      },
      "execution_count": null,
      "outputs": [
        {
          "output_type": "stream",
          "name": "stdout",
          "text": [
            "['cheese', 'lettuce', 'tomato', 'spread', 'jalepeno']\n",
            "['bread', 'cheese', 'lettuce', 'tomato', 'spread']\n",
            "['lettuce']\n",
            "['bread', 'tomato', 'pickle']\n"
          ]
        }
      ]
    },
    {
      "cell_type": "code",
      "source": [
        "Report=['English',90,'Mathematics',80,'Hindi',75,'Physics',93,'Chemistry',78,'Biology',81]\n",
        "# Loop through the list and check each element\n",
        "for item in Report:\n",
        "    if type(item) == int:\n",
        "     print(item)"
      ],
      "metadata": {
        "colab": {
          "base_uri": "https://localhost:8080/"
        },
        "id": "8xpf9r8Z6EbA",
        "outputId": "40c44ca4-a9cf-464d-dc57-3c98048cd2f1"
      },
      "execution_count": null,
      "outputs": [
        {
          "output_type": "stream",
          "name": "stdout",
          "text": [
            "90\n",
            "80\n",
            "75\n",
            "93\n",
            "78\n",
            "81\n"
          ]
        }
      ]
    }
  ]
}