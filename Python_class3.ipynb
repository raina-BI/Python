{
  "nbformat": 4,
  "nbformat_minor": 0,
  "metadata": {
    "colab": {
      "provenance": [],
      "authorship_tag": "ABX9TyMQ5ppcCZSaQkV9ha6LegD+",
      "include_colab_link": true
    },
    "kernelspec": {
      "name": "python3",
      "display_name": "Python 3"
    },
    "language_info": {
      "name": "python"
    }
  },
  "cells": [
    {
      "cell_type": "markdown",
      "metadata": {
        "id": "view-in-github",
        "colab_type": "text"
      },
      "source": [
        "<a href=\"https://colab.research.google.com/github/rainaoommen/Python/blob/main/Python_class3.ipynb\" target=\"_parent\"><img src=\"https://colab.research.google.com/assets/colab-badge.svg\" alt=\"Open In Colab\"/></a>"
      ]
    },
    {
      "cell_type": "code",
      "execution_count": 9,
      "metadata": {
        "colab": {
          "base_uri": "https://localhost:8080/"
        },
        "id": "kNQiGQd0nJGq",
        "outputId": "1085b752-d56e-4c26-d94e-60b3a72071ad"
      },
      "outputs": [
        {
          "output_type": "stream",
          "name": "stdout",
          "text": [
            "0\n",
            "2\n",
            "4\n",
            "6\n",
            "code\n"
          ]
        }
      ],
      "source": [
        "Report=['English',90,'Mathematics',80,'Hindi',75,'Physics',93,'Chemistry',78,'Biology',81]\n",
        "# Loop through the list and check each element\n",
        "\n",
        "for i in range(0,7,2):\n",
        "  print(i)\n",
        "print(\"code\")"
      ]
    },
    {
      "cell_type": "code",
      "source": [
        "for i in range(6,0,-2):\n",
        "    print(i)"
      ],
      "metadata": {
        "colab": {
          "base_uri": "https://localhost:8080/"
        },
        "id": "GPsOSLBwoLaT",
        "outputId": "8325505d-4d65-4e89-b692-1bb0a996dc7b"
      },
      "execution_count": 13,
      "outputs": [
        {
          "output_type": "stream",
          "name": "stdout",
          "text": [
            "6\n",
            "4\n",
            "2\n"
          ]
        }
      ]
    },
    {
      "cell_type": "code",
      "source": [
        "list1=[34,56,67,34,89,67,33,89,99,56,12,43,72,48,22]\n",
        "occurence_67 = 0\n",
        "for i in list1:\n",
        "  if i == 67 :\n",
        "    occurence_67 = occurence_67+1\n",
        "#print(\"Number of occurances of 67:\", occurence_67)\n",
        "\n",
        "print(list1[0])"
      ],
      "metadata": {
        "colab": {
          "base_uri": "https://localhost:8080/"
        },
        "id": "D6LVIfRIocgU",
        "outputId": "4f91ed40-6008-4865-aa9a-1e340f08c435"
      },
      "execution_count": 24,
      "outputs": [
        {
          "output_type": "stream",
          "name": "stdout",
          "text": [
            "34\n"
          ]
        }
      ]
    },
    {
      "cell_type": "code",
      "source": [
        "upperlimit=int(input(\"Please enter the upper limit = \"))\n",
        "lowerlimit=int(input(\"Please enter the lower limit = \"))\n",
        "x = int(input(\"multiple of which number = \"))\n",
        "y = range(lowerlimit,upperlimit,1)\n",
        "count=0\n",
        "for i in y:\n",
        " if (i%x==0):\n",
        "  print(i)\n",
        "  count=int(count+1)\n",
        "print(\"Number of multiples of\",x,\"between\",lowerlimit,\"and\",upperlimit,\"is\",count)\n"
      ],
      "metadata": {
        "colab": {
          "base_uri": "https://localhost:8080/"
        },
        "id": "E3m8t0_AKDdU",
        "outputId": "f9fe6087-b7b4-4d28-8227-1dc2a078cbf1"
      },
      "execution_count": 25,
      "outputs": [
        {
          "output_type": "stream",
          "name": "stdout",
          "text": [
            "Please enter the upper limit = 100\n",
            "Please enter the lower limit = 20\n",
            "multiple of which number = 8\n",
            "24\n",
            "32\n",
            "40\n",
            "48\n",
            "56\n",
            "64\n",
            "72\n",
            "80\n",
            "88\n",
            "96\n",
            "Number of multiples of 8 between 20 and 100 is 10\n"
          ]
        }
      ]
    }
  ]
}